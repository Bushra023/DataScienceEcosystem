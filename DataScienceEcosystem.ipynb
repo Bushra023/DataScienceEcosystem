{
 "cells": [
  {
   "cell_type": "markdown",
   "id": "43e8b738",
   "metadata": {},
   "source": [
    "### Exercise 2: Create markdown cell with title of the notebook"
   ]
  },
  {
   "cell_type": "markdown",
   "id": "b084d8a8",
   "metadata": {},
   "source": [
    "# Data Science Tools and Ecosystem"
   ]
  },
  {
   "cell_type": "markdown",
   "id": "ab388eda",
   "metadata": {},
   "source": [
    "### Exercise 3 - Create a markdown cell for an introduction"
   ]
  },
  {
   "cell_type": "markdown",
   "id": "7e9f0f23",
   "metadata": {},
   "source": [
    "In this notebook, Data Science Tools and Ecosystem are summarized."
   ]
  },
  {
   "cell_type": "markdown",
   "id": "56376ec4",
   "metadata": {},
   "source": [
    "### Exercise 10 - Insert a markdown cell to list Objectives"
   ]
  },
  {
   "cell_type": "markdown",
   "id": "dd2b113f",
   "metadata": {},
   "source": [
    "__Objectives:__\n",
    "- Popular Languagaes for Data Science\n",
    "- Open Source Tools for Data Science\n",
    "- Application Programming Interfaces (APIs)\n",
    "- Libraries, Datasets, and Models"
   ]
  },
  {
   "cell_type": "markdown",
   "id": "4c82aa4a",
   "metadata": {},
   "source": [
    "### Exercise 4 - Create a markdown cell to list data science languages"
   ]
  },
  {
   "cell_type": "markdown",
   "id": "66bd3169",
   "metadata": {},
   "source": [
    "___Some of the popular languages that Data Scientists use are:___\n",
    "1. R\n",
    "2. Python\n",
    "3. Scala"
   ]
  },
  {
   "cell_type": "markdown",
   "id": "12a6a6b4",
   "metadata": {},
   "source": [
    "### Exercise 5 - Create a markdown cell to list data science libraries"
   ]
  },
  {
   "cell_type": "markdown",
   "id": "c01abc0d",
   "metadata": {},
   "source": [
    "___Some of the commonly used libraries used by Data Scientists include:___\n",
    "\n",
    "1. Pandas\n",
    "2. NumPy\n",
    "3. ScikitLearn\n",
    "4. TensorFlow\n",
    "5. Keras"
   ]
  },
  {
   "cell_type": "markdown",
   "id": "f58ef666",
   "metadata": {},
   "source": [
    "### Exercise 6 - Create a markdown cell with a table of Data Science tools"
   ]
  },
  {
   "cell_type": "markdown",
   "id": "01c174c9",
   "metadata": {},
   "source": [
    "| Data Science Tools |\n",
    "| -------------|\n",
    "| RStudio |\n",
    "| Apache Hadoop |\n",
    "| Apache Spark |"
   ]
  },
  {
   "cell_type": "markdown",
   "id": "bcaec68f",
   "metadata": {},
   "source": [
    "### Exercise 7 - Create a markdown cell introducing arithmetic expression examples"
   ]
  },
  {
   "cell_type": "markdown",
   "id": "33f870a6",
   "metadata": {},
   "source": [
    "### Below are a few examples of evaluating arithmetic expressions in Python"
   ]
  },
  {
   "cell_type": "code",
   "execution_count": 4,
   "id": "a2a80f84",
   "metadata": {},
   "outputs": [
    {
     "name": "stdout",
     "output_type": "stream",
     "text": [
      "4\n",
      "10\n"
     ]
    }
   ],
   "source": [
    "print(2**2) # Exponent\n",
    "print(50//5) # Floor Division"
   ]
  },
  {
   "cell_type": "markdown",
   "id": "f930469d",
   "metadata": {},
   "source": [
    "### Exercise 8 - Create a code cell to multiply and add numbers"
   ]
  },
  {
   "cell_type": "code",
   "execution_count": 1,
   "id": "3d9b62f6",
   "metadata": {},
   "outputs": [
    {
     "data": {
      "text/plain": [
       "17"
      ]
     },
     "execution_count": 1,
     "metadata": {},
     "output_type": "execute_result"
    }
   ],
   "source": [
    "# This a simple arithmetic expression to mutiply then add integers\n",
    "(3*4)+5"
   ]
  },
  {
   "cell_type": "markdown",
   "id": "6c55854f",
   "metadata": {},
   "source": [
    "### Exercise 9 - Create a code cell to convert minutes to hours"
   ]
  },
  {
   "cell_type": "code",
   "execution_count": 3,
   "id": "d6b058c6",
   "metadata": {},
   "outputs": [
    {
     "data": {
      "text/plain": [
       "3.3333333333333335"
      ]
     },
     "execution_count": 3,
     "metadata": {},
     "output_type": "execute_result"
    }
   ],
   "source": [
    "# This will convert 200 minutes to hours by diving by 60\n",
    "200/60"
   ]
  },
  {
   "cell_type": "markdown",
   "id": "88c4bfaf",
   "metadata": {},
   "source": [
    "### Exercise 11 - Create a markdown cell to indicate the Author's name"
   ]
  },
  {
   "cell_type": "markdown",
   "id": "8db5cea8",
   "metadata": {},
   "source": [
    "## Author:\n",
    "Bushra Jabeen"
   ]
  },
  {
   "cell_type": "code",
   "execution_count": null,
   "id": "fa6d491a",
   "metadata": {},
   "outputs": [],
   "source": []
  }
 ],
 "metadata": {
  "kernelspec": {
   "display_name": "Python 3 (ipykernel)",
   "language": "python",
   "name": "python3"
  },
  "language_info": {
   "codemirror_mode": {
    "name": "ipython",
    "version": 3
   },
   "file_extension": ".py",
   "mimetype": "text/x-python",
   "name": "python",
   "nbconvert_exporter": "python",
   "pygments_lexer": "ipython3",
   "version": "3.9.13"
  }
 },
 "nbformat": 4,
 "nbformat_minor": 5
}
